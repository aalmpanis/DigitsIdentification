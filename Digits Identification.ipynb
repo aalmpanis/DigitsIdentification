{
 "cells": [
  {
   "cell_type": "markdown",
   "id": "44d9d436",
   "metadata": {},
   "source": [
    "Download the Dataset\n",
    "The Scikit-Learn library offers a way to download the MNIST dataset using these lines of code:"
   ]
  },
  {
   "cell_type": "code",
   "execution_count": 1,
   "id": "46bb54b3",
   "metadata": {},
   "outputs": [],
   "source": [
    "from keras.datasets import mnist\n",
    "(x_train, y_train), (x_test, y_test) = mnist.load_data()"
   ]
  },
  {
   "cell_type": "markdown",
   "id": "6b2f48ee",
   "metadata": {},
   "source": [
    "Reshaping the Images\n",
    "Prepare your dataset.\n",
    "Write these two lines of code to somewhat normalize your dataset:"
   ]
  },
  {
   "cell_type": "code",
   "execution_count": 2,
   "id": "e18a0711",
   "metadata": {},
   "outputs": [],
   "source": [
    "x_train = x_train.reshape(60000, 28, 28, 1)/255\n",
    "x_test = x_test.reshape(10000, 28, 28, 1)/255"
   ]
  },
  {
   "cell_type": "markdown",
   "id": "4f9cb2f6",
   "metadata": {},
   "source": [
    "1. Input layer"
   ]
  },
  {
   "cell_type": "code",
   "execution_count": 8,
   "id": "e881c764",
   "metadata": {},
   "outputs": [],
   "source": [
    "from keras.models import Sequential\n",
    "from keras.layers import Conv2D\n",
    "\n",
    "model = Sequential()\n",
    "model.add(Conv2D(28, (3, 3), input_shape=(28, 28, 1), activation='relu'))"
   ]
  },
  {
   "cell_type": "markdown",
   "id": "6b75c292",
   "metadata": {},
   "source": [
    "2. Hidden layer: Pooling"
   ]
  },
  {
   "cell_type": "code",
   "execution_count": 9,
   "id": "9e3fa145",
   "metadata": {},
   "outputs": [],
   "source": [
    "from keras.layers import MaxPooling2D\n",
    "model.add(MaxPooling2D(pool_size=(2, 2)))"
   ]
  },
  {
   "cell_type": "markdown",
   "id": "1a24f8fb",
   "metadata": {},
   "source": [
    "3. Hidden layer: Flattening"
   ]
  },
  {
   "cell_type": "code",
   "execution_count": 10,
   "id": "3f59f6c5",
   "metadata": {},
   "outputs": [],
   "source": [
    "from keras.layers import Flatten\n",
    "model.add(Flatten())"
   ]
  },
  {
   "cell_type": "markdown",
   "id": "d7368f5c",
   "metadata": {},
   "source": [
    "4. Hidden layer: Fully connected"
   ]
  },
  {
   "cell_type": "code",
   "execution_count": 11,
   "id": "3b8f81f9",
   "metadata": {},
   "outputs": [],
   "source": [
    "from keras.layers import Dense\n",
    "model.add(Dense(units=128, activation='relu'))"
   ]
  },
  {
   "cell_type": "markdown",
   "id": "32ae848e",
   "metadata": {},
   "source": [
    "5. Output layer: Fully connected"
   ]
  },
  {
   "cell_type": "code",
   "execution_count": 12,
   "id": "25e4eca4",
   "metadata": {},
   "outputs": [],
   "source": [
    "from keras.layers import Dense\n",
    "model.add(Dense(units=10, activation='softmax'))"
   ]
  },
  {
   "cell_type": "markdown",
   "id": "5921c528",
   "metadata": {},
   "source": [
    "6. Build the Convolutional Neural Network (CNN)"
   ]
  },
  {
   "cell_type": "code",
   "execution_count": 14,
   "id": "10e4b482",
   "metadata": {},
   "outputs": [],
   "source": [
    "model.compile(optimizer='adam', loss='sparse_categorical_crossentropy', metrics=['accuracy'])"
   ]
  },
  {
   "cell_type": "markdown",
   "id": "e442b570",
   "metadata": {},
   "source": [
    "7. Train the CNN"
   ]
  },
  {
   "cell_type": "code",
   "execution_count": 15,
   "id": "e37d0f84",
   "metadata": {},
   "outputs": [
    {
     "name": "stdout",
     "output_type": "stream",
     "text": [
      "Epoch 1/10\n",
      "1875/1875 [==============================] - 24s 12ms/step - loss: 0.1484 - accuracy: 0.9569\n",
      "Epoch 2/10\n",
      "1875/1875 [==============================] - 23s 12ms/step - loss: 0.0500 - accuracy: 0.9847\n",
      "Epoch 3/10\n",
      "1875/1875 [==============================] - 25s 13ms/step - loss: 0.0319 - accuracy: 0.9901\n",
      "Epoch 4/10\n",
      "1875/1875 [==============================] - 22s 12ms/step - loss: 0.0208 - accuracy: 0.9934\n",
      "Epoch 5/10\n",
      "1875/1875 [==============================] - 22s 12ms/step - loss: 0.0145 - accuracy: 0.9955\n",
      "Epoch 6/10\n",
      "1875/1875 [==============================] - 22s 12ms/step - loss: 0.0104 - accuracy: 0.9966\n",
      "Epoch 7/10\n",
      "1875/1875 [==============================] - 26s 14ms/step - loss: 0.0081 - accuracy: 0.9973\n",
      "Epoch 8/10\n",
      "1875/1875 [==============================] - 28s 15ms/step - loss: 0.0050 - accuracy: 0.9983\n",
      "Epoch 9/10\n",
      "1875/1875 [==============================] - 39s 21ms/step - loss: 0.0062 - accuracy: 0.9979\n",
      "Epoch 10/10\n",
      "1875/1875 [==============================] - 26s 14ms/step - loss: 0.0049 - accuracy: 0.9983\n"
     ]
    },
    {
     "data": {
      "text/plain": [
       "<keras.callbacks.History at 0x207321d5c10>"
      ]
     },
     "execution_count": 15,
     "metadata": {},
     "output_type": "execute_result"
    }
   ],
   "source": [
    "model.fit(x_train, y_train, epochs=10)"
   ]
  },
  {
   "cell_type": "markdown",
   "id": "9314b0d7",
   "metadata": {},
   "source": [
    "8. Test the CNN"
   ]
  },
  {
   "cell_type": "code",
   "execution_count": 16,
   "id": "260a2b31",
   "metadata": {},
   "outputs": [
    {
     "name": "stdout",
     "output_type": "stream",
     "text": [
      "313/313 [==============================] - 1s 3ms/step - loss: 0.0515 - accuracy: 0.9877\n"
     ]
    }
   ],
   "source": [
    "loss, accuracy = model.evaluate(x_test, y_test)"
   ]
  },
  {
   "cell_type": "code",
   "execution_count": null,
   "id": "4eb0b27e",
   "metadata": {},
   "outputs": [],
   "source": []
  }
 ],
 "metadata": {
  "kernelspec": {
   "display_name": "Python 3 (ipykernel)",
   "language": "python",
   "name": "python3"
  },
  "language_info": {
   "codemirror_mode": {
    "name": "ipython",
    "version": 3
   },
   "file_extension": ".py",
   "mimetype": "text/x-python",
   "name": "python",
   "nbconvert_exporter": "python",
   "pygments_lexer": "ipython3",
   "version": "3.9.15"
  }
 },
 "nbformat": 4,
 "nbformat_minor": 5
}
